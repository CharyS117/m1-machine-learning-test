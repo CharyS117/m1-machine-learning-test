{
 "cells": [
  {
   "cell_type": "code",
   "execution_count": 1,
   "id": "LbLhLej4JbQE",
   "metadata": {
    "colab": {
     "base_uri": "https://localhost:8080/"
    },
    "id": "LbLhLej4JbQE",
    "outputId": "9effcd12-8fe2-469d-d479-323e0570ed33"
   },
   "outputs": [
    {
     "name": "stdout",
     "output_type": "stream",
     "text": [
      "zsh:1: command not found: nvidia-smi\r\n"
     ]
    }
   ],
   "source": [
    "# If using Google Colab, check this...\n",
    "!nvidia-smi"
   ]
  },
  {
   "cell_type": "code",
   "execution_count": 2,
   "id": "b8f23a80",
   "metadata": {
    "id": "b8f23a80"
   },
   "outputs": [],
   "source": [
    "import tensorflow as tf\n",
    "import pandas as pd\n",
    "import numpy as np\n",
    "import sklearn as sk\n",
    "import matplotlib.pyplot as plt\n",
    "\n",
    "from helper_functions import print_train_time\n",
    "from timeit import default_timer as timer"
   ]
  },
  {
   "cell_type": "code",
   "execution_count": 3,
   "id": "38728e52",
   "metadata": {
    "colab": {
     "base_uri": "https://localhost:8080/"
    },
    "id": "38728e52",
    "outputId": "4cacc5f7-2df7-434c-cd80-391f77e449f4"
   },
   "outputs": [
    {
     "data": {
      "text/plain": [
       "[PhysicalDevice(name='/physical_device:CPU:0', device_type='CPU'),\n",
       " PhysicalDevice(name='/physical_device:GPU:0', device_type='GPU')]"
      ]
     },
     "execution_count": 3,
     "metadata": {},
     "output_type": "execute_result"
    }
   ],
   "source": [
    "# Check for GPU\n",
    "tf.config.list_physical_devices()"
   ]
  },
  {
   "cell_type": "markdown",
   "id": "2425d422",
   "metadata": {
    "id": "2425d422"
   },
   "source": [
    "## Get data from TensorFlow Keras Datasets"
   ]
  },
  {
   "cell_type": "code",
   "execution_count": 4,
   "id": "d1dcec42",
   "metadata": {
    "colab": {
     "base_uri": "https://localhost:8080/"
    },
    "id": "d1dcec42",
    "outputId": "ad5965fa-9249-4f77-af83-f17adcca62bf"
   },
   "outputs": [],
   "source": [
    "# Get data from tf.keras.datasets\n",
    "(train_images, train_labels), (test_images, test_labels) = tf.keras.datasets.cifar10.load_data()\n",
    "\n",
    "# Normalize pixel values to be between 0 and 1\n",
    "train_images, test_images = train_images / 255.0, test_images / 255.0"
   ]
  },
  {
   "cell_type": "code",
   "execution_count": 5,
   "id": "ea3b59dd",
   "metadata": {
    "id": "ea3b59dd"
   },
   "outputs": [],
   "source": [
    "class_names = ['airplane', 'automobile', 'bird', 'cat', 'deer',\n",
    "               'dog', 'frog', 'horse', 'ship', 'truck']"
   ]
  },
  {
   "cell_type": "code",
   "execution_count": 6,
   "id": "da384160",
   "metadata": {
    "colab": {
     "base_uri": "https://localhost:8080/"
    },
    "id": "da384160",
    "outputId": "ecaf2f7b-7d06-4c8e-a3c9-7cdfff49a3d7",
    "scrolled": true
   },
   "outputs": [
    {
     "data": {
      "text/plain": [
       "(array([[[0.23137255, 0.24313725, 0.24705882],\n",
       "         [0.16862745, 0.18039216, 0.17647059],\n",
       "         [0.19607843, 0.18823529, 0.16862745],\n",
       "         ...,\n",
       "         [0.61960784, 0.51764706, 0.42352941],\n",
       "         [0.59607843, 0.49019608, 0.4       ],\n",
       "         [0.58039216, 0.48627451, 0.40392157]],\n",
       " \n",
       "        [[0.0627451 , 0.07843137, 0.07843137],\n",
       "         [0.        , 0.        , 0.        ],\n",
       "         [0.07058824, 0.03137255, 0.        ],\n",
       "         ...,\n",
       "         [0.48235294, 0.34509804, 0.21568627],\n",
       "         [0.46666667, 0.3254902 , 0.19607843],\n",
       "         [0.47843137, 0.34117647, 0.22352941]],\n",
       " \n",
       "        [[0.09803922, 0.09411765, 0.08235294],\n",
       "         [0.0627451 , 0.02745098, 0.        ],\n",
       "         [0.19215686, 0.10588235, 0.03137255],\n",
       "         ...,\n",
       "         [0.4627451 , 0.32941176, 0.19607843],\n",
       "         [0.47058824, 0.32941176, 0.19607843],\n",
       "         [0.42745098, 0.28627451, 0.16470588]],\n",
       " \n",
       "        ...,\n",
       " \n",
       "        [[0.81568627, 0.66666667, 0.37647059],\n",
       "         [0.78823529, 0.6       , 0.13333333],\n",
       "         [0.77647059, 0.63137255, 0.10196078],\n",
       "         ...,\n",
       "         [0.62745098, 0.52156863, 0.2745098 ],\n",
       "         [0.21960784, 0.12156863, 0.02745098],\n",
       "         [0.20784314, 0.13333333, 0.07843137]],\n",
       " \n",
       "        [[0.70588235, 0.54509804, 0.37647059],\n",
       "         [0.67843137, 0.48235294, 0.16470588],\n",
       "         [0.72941176, 0.56470588, 0.11764706],\n",
       "         ...,\n",
       "         [0.72156863, 0.58039216, 0.36862745],\n",
       "         [0.38039216, 0.24313725, 0.13333333],\n",
       "         [0.3254902 , 0.20784314, 0.13333333]],\n",
       " \n",
       "        [[0.69411765, 0.56470588, 0.45490196],\n",
       "         [0.65882353, 0.50588235, 0.36862745],\n",
       "         [0.70196078, 0.55686275, 0.34117647],\n",
       "         ...,\n",
       "         [0.84705882, 0.72156863, 0.54901961],\n",
       "         [0.59215686, 0.4627451 , 0.32941176],\n",
       "         [0.48235294, 0.36078431, 0.28235294]]]),\n",
       " array([6], dtype=uint8))"
      ]
     },
     "execution_count": 6,
     "metadata": {},
     "output_type": "execute_result"
    }
   ],
   "source": [
    "train_images[0], train_labels[0]"
   ]
  },
  {
   "cell_type": "code",
   "execution_count": 7,
   "id": "db015720",
   "metadata": {
    "colab": {
     "base_uri": "https://localhost:8080/",
     "height": 264
    },
    "id": "db015720",
    "outputId": "7fb218f1-34f4-4c2e-8ae9-cac59d241262"
   },
   "outputs": [
    {
     "data": {
      "image/png": "[encoded data removed]",
      "text/plain": [
       "<Figure size 432x288 with 1 Axes>"
      ]
     },
     "metadata": {
      "needs_background": "light"
     },
     "output_type": "display_data"
    }
   ],
   "source": [
    "plt.imshow(train_images[0])\n",
    "plt.title(class_names[int(train_labels[0])])\n",
    "plt.axis(False);"
   ]
  },
  {
   "cell_type": "code",
   "execution_count": 8,
   "id": "3c862c1e",
   "metadata": {
    "id": "3c862c1e"
   },
   "outputs": [
    {
     "name": "stderr",
     "output_type": "stream",
     "text": [
      "2021-11-14 16:22:02.219350: I tensorflow/core/common_runtime/pluggable_device/pluggable_device_factory.cc:305] Could not identify NUMA node of platform GPU ID 0, defaulting to 0. Your kernel may not have been built with NUMA support.\n",
      "2021-11-14 16:22:02.219489: I tensorflow/core/common_runtime/pluggable_device/pluggable_device_factory.cc:271] Created TensorFlow device (/job:localhost/replica:0/task:0/device:GPU:0 with 0 MB memory) -> physical PluggableDevice (device: 0, name: METAL, pci bus id: <undefined>)\n"
     ]
    },
    {
     "name": "stdout",
     "output_type": "stream",
     "text": [
      "Metal device set to: Apple M1 Max\n"
     ]
    },
    {
     "data": {
      "text/plain": [
       "(<PrefetchDataset shapes: ((None, 32, 32, 3), (None, 1)), types: (tf.float64, tf.uint8)>,\n",
       " <PrefetchDataset shapes: ((None, 32, 32, 3), (None, 1)), types: (tf.float64, tf.uint8)>,\n",
       " 391,\n",
       " 79)"
      ]
     },
     "execution_count": 8,
     "metadata": {},
     "output_type": "execute_result"
    }
   ],
   "source": [
    "# Create datasets \n",
    "train_dataset = tf.data.Dataset.from_tensor_slices((train_images, train_labels))\n",
    "test_dataset = tf.data.Dataset.from_tensor_slices((test_images, test_labels))\n",
    "\n",
    "# Make datasets faster\n",
    "BATCH_SIZE = 128\n",
    "train_dataset = train_dataset.batch(BATCH_SIZE).prefetch(tf.data.AUTOTUNE)\n",
    "test_dataset = test_dataset.batch(BATCH_SIZE).prefetch(tf.data.AUTOTUNE)\n",
    "\n",
    "train_dataset, test_dataset, len(train_dataset), len(test_dataset)"
   ]
  },
  {
   "cell_type": "markdown",
   "id": "25d58b30",
   "metadata": {
    "id": "25d58b30"
   },
   "source": [
    "## Build a model "
   ]
  },
  {
   "cell_type": "code",
   "execution_count": null,
   "id": "7938027f",
   "metadata": {
    "colab": {
     "base_uri": "https://localhost:8080/"
    },
    "id": "7938027f",
    "outputId": "89875c22-8889-4eed-d27c-15b6a954ceee"
   },
   "outputs": [
    {
     "name": "stdout",
     "output_type": "stream",
     "text": [
      "Epoch 1/10\n"
     ]
    },
    {
     "name": "stderr",
     "output_type": "stream",
     "text": [
      "2021-11-14 16:22:03.706296: I tensorflow/compiler/mlir/mlir_graph_optimization_pass.cc:185] None of the MLIR Optimization Passes are enabled (registered 2)\n",
      "2021-11-14 16:22:03.707454: W tensorflow/core/platform/profile_utils/cpu_utils.cc:128] Failed to get CPU frequency: 0 Hz\n",
      "2021-11-14 16:22:03.707541: I tensorflow/core/grappler/optimizers/custom_graph_optimizer_registry.cc:112] Plugin optimizer for device_type GPU is enabled.\n"
     ]
    },
    {
     "name": "stdout",
     "output_type": "stream",
     "text": [
      "390/391 [============================>.] - ETA: 0s - loss: 1.8038 - accuracy: 0.3383"
     ]
    },
    {
     "name": "stderr",
     "output_type": "stream",
     "text": [
      "2021-11-14 16:22:10.826616: I tensorflow/core/grappler/optimizers/custom_graph_optimizer_registry.cc:112] Plugin optimizer for device_type GPU is enabled.\n"
     ]
    },
    {
     "name": "stdout",
     "output_type": "stream",
     "text": [
      "391/391 [==============================] - 8s 12ms/step - loss: 1.8037 - accuracy: 0.3384 - val_loss: 1.6161 - val_accuracy: 0.4071\n",
      "Epoch 2/10\n",
      "391/391 [==============================] - 5s 12ms/step - loss: 1.5390 - accuracy: 0.4430 - val_loss: 1.4903 - val_accuracy: 0.4605\n",
      "Epoch 3/10\n",
      "391/391 [==============================] - 5s 12ms/step - loss: 1.4348 - accuracy: 0.4831 - val_loss: 1.4028 - val_accuracy: 0.4946\n",
      "Epoch 4/10\n",
      "391/391 [==============================] - 5s 12ms/step - loss: 1.3703 - accuracy: 0.5094 - val_loss: 1.3467 - val_accuracy: 0.5136\n",
      "Epoch 5/10\n",
      "391/391 [==============================] - 5s 12ms/step - loss: 1.3201 - accuracy: 0.5296 - val_loss: 1.3054 - val_accuracy: 0.5325\n",
      "Epoch 6/10\n",
      "391/391 [==============================] - 5s 12ms/step - loss: 1.2810 - accuracy: 0.5452 - val_loss: 1.2768 - val_accuracy: 0.5464\n",
      "Epoch 7/10\n",
      "391/391 [==============================] - 5s 12ms/step - loss: 1.2501 - accuracy: 0.5577 - val_loss: 1.2533 - val_accuracy: 0.5568\n",
      "Epoch 8/10\n",
      "391/391 [==============================] - 5s 12ms/step - loss: 1.2249 - accuracy: 0.5671 - val_loss: 1.2309 - val_accuracy: 0.5653\n",
      "Epoch 9/10\n",
      "391/391 [==============================] - 5s 12ms/step - loss: 1.2029 - accuracy: 0.5751 - val_loss: 1.2133 - val_accuracy: 0.5738\n",
      "Epoch 10/10\n",
      "204/391 [==============>...............] - ETA: 1s - loss: 1.1859 - accuracy: 0.5812"
     ]
    }
   ],
   "source": [
    "# Start time\n",
    "start_time = timer()\n",
    "\n",
    "# Set random seed\n",
    "tf.random.set_seed(42)\n",
    "\n",
    "# Create a CNN model (same as Tiny VGG - https://poloclub.github.io/cnn-explainer/)\n",
    "model = tf.keras.models.Sequential([\n",
    "  tf.keras.layers.Conv2D(filters=10, \n",
    "                         kernel_size=3, # can also be (3, 3)\n",
    "                         activation=\"relu\", \n",
    "                         input_shape=(32, 32, 3)), # first layer specifies input shape (height, width, colour channels)\n",
    "  tf.keras.layers.Conv2D(10, 3, activation=\"relu\"),\n",
    "  tf.keras.layers.MaxPool2D(pool_size=2, # pool_size can also be (2, 2)\n",
    "                            padding=\"valid\"), # padding can also be 'same'\n",
    "  tf.keras.layers.Conv2D(10, 3, activation=\"relu\"),\n",
    "  tf.keras.layers.Conv2D(10, 3, activation=\"relu\"), # activation='relu' == tf.keras.layers.Activations(tf.nn.relu)\n",
    "  tf.keras.layers.MaxPool2D(2),\n",
    "  tf.keras.layers.Flatten(),\n",
    "  tf.keras.layers.Dense(10, activation=\"softmax\") # multi-class activation output\n",
    "])\n",
    "\n",
    "# Compile the model\n",
    "model.compile(loss=\"sparse_categorical_crossentropy\", # since labels aren't one-hot, use sparse_categorical_crossentropy\n",
    "              optimizer=tf.keras.optimizers.Adam(),\n",
    "              metrics=[\"accuracy\"])\n",
    "\n",
    "# Fit model \n",
    "history = model.fit(train_dataset,\n",
    "                    epochs=10,\n",
    "                    steps_per_epoch=len(train_dataset),\n",
    "                    validation_data=test_dataset,\n",
    "                    validation_steps=len(test_dataset))\n",
    "\n",
    "end_time = timer()\n",
    "print_train_time(start_time, end_time, device=\"Apple M1 Max\")"
   ]
  },
  {
   "cell_type": "code",
   "execution_count": null,
   "id": "2613874c",
   "metadata": {
    "id": "2613874c"
   },
   "outputs": [],
   "source": [
    "# ## On Apple's M1 Max with Batch Size 32\n",
    "# Epoch 1/10\n",
    "# 2021-11-14 15:52:01.133800: I tensorflow/compiler/mlir/mlir_graph_optimization_pass.cc:185] None of the MLIR Optimization Passes are enabled (registered 2)\n",
    "# 2021-11-14 15:52:01.134861: W tensorflow/core/platform/profile_utils/cpu_utils.cc:128] Failed to get CPU frequency: 0 Hz\n",
    "# 2021-11-14 15:52:01.134947: I tensorflow/core/grappler/optimizers/custom_graph_optimizer_registry.cc:112] Plugin optimizer for device_type GPU is enabled.\n",
    "# 1563/1563 [==============================] - ETA: 0s - loss: 1.6948 - accuracy: 0.3803\n",
    "# 2021-11-14 15:52:16.892279: I tensorflow/core/grappler/optimizers/custom_graph_optimizer_registry.cc:112] Plugin optimizer for device_type GPU is enabled.\n",
    "# 1563/1563 [==============================] - 17s 9ms/step - loss: 1.6948 - accuracy: 0.3803 - val_loss: 1.5826 - val_accuracy: 0.4305\n",
    "# Epoch 2/10\n",
    "# 1563/1563 [==============================] - 14s 9ms/step - loss: 1.4219 - accuracy: 0.4903 - val_loss: 1.3601 - val_accuracy: 0.5139\n",
    "# Epoch 3/10\n",
    "# 1563/1563 [==============================] - 14s 9ms/step - loss: 1.3089 - accuracy: 0.5338 - val_loss: 1.2657 - val_accuracy: 0.5494\n",
    "# Epoch 4/10\n",
    "# 1563/1563 [==============================] - 14s 9ms/step - loss: 1.2336 - accuracy: 0.5617 - val_loss: 1.1981 - val_accuracy: 0.5758\n",
    "# Epoch 5/10\n",
    "# 1563/1563 [==============================] - 14s 9ms/step - loss: 1.1778 - accuracy: 0.5827 - val_loss: 1.1566 - val_accuracy: 0.5919\n",
    "# Epoch 6/10\n",
    "# 1563/1563 [==============================] - 14s 9ms/step - loss: 1.1367 - accuracy: 0.5998 - val_loss: 1.1174 - val_accuracy: 0.6042\n",
    "# Epoch 7/10\n",
    "# 1563/1563 [==============================] - 14s 9ms/step - loss: 1.1066 - accuracy: 0.6111 - val_loss: 1.0853 - val_accuracy: 0.6202\n",
    "# Epoch 8/10\n",
    "# 1563/1563 [==============================] - 14s 9ms/step - loss: 1.0820 - accuracy: 0.6215 - val_loss: 1.0696 - val_accuracy: 0.6234\n",
    "# Epoch 9/10\n",
    "# 1563/1563 [==============================] - 14s 9ms/step - loss: 1.0605 - accuracy: 0.6286 - val_loss: 1.0539 - val_accuracy: 0.6279\n",
    "# Epoch 10/10\n",
    "# 1563/1563 [==============================] - 14s 9ms/step - loss: 1.0418 - accuracy: 0.6334 - val_loss: 1.0437 - val_accuracy: 0.6326\n",
    "\n",
    "# Train time on Apple M1 Max: 145.284 seconds\n",
    "# Out[12]:\n",
    "# 145.28421195800001\n",
    "\n",
    "\n",
    "\n",
    "# ## On Apple's baseline M1 Pro w/ 16GB Ram and batch size 32\n",
    "# Epoch 1/10\n",
    "#    6/1563 [..............................] - ETA: 17s - loss: 2.3021 - accuracy: 0.1510 \n",
    "# 2021-11-14 12:08:34.099293: I tensorflow/core/grappler/optimizers/custom_graph_optimizer_registry.cc:112] Plugin optimizer for device_type GPU is enabled.\n",
    "# 1563/1563 [==============================] - ETA: 0s - loss: 1.6939 - accuracy: 0.3804\n",
    "# 2021-11-14 12:08:48.422142: I tensorflow/core/grappler/optimizers/custom_graph_optimizer_registry.cc:112] Plugin optimizer for device_type GPU is enabled.\n",
    "# 1563/1563 [==============================] - 16s 10ms/step - loss: 1.6939 - accuracy: 0.3804 - val_loss: 1.5820 - val_accuracy: 0.4313\n",
    "# Epoch 2/10\n",
    "# 1563/1563 [==============================] - 15s 9ms/step - loss: 1.4214 - accuracy: 0.4923 - val_loss: 1.3688 - val_accuracy: 0.5121\n",
    "# Epoch 3/10\n",
    "# 1563/1563 [==============================] - 15s 9ms/step - loss: 1.3070 - accuracy: 0.5337 - val_loss: 1.2805 - val_accuracy: 0.5437\n",
    "# Epoch 4/10\n",
    "# 1563/1563 [==============================] - 15s 10ms/step - loss: 1.2338 - accuracy: 0.5621 - val_loss: 1.2175 - val_accuracy: 0.5617\n",
    "# Epoch 5/10\n",
    "# 1563/1563 [==============================] - 15s 9ms/step - loss: 1.1817 - accuracy: 0.5840 - val_loss: 1.1679 - val_accuracy: 0.5804\n",
    "# Epoch 6/10\n",
    "# 1563/1563 [==============================] - 15s 9ms/step - loss: 1.1391 - accuracy: 0.6004 - val_loss: 1.1279 - val_accuracy: 0.5966\n",
    "# Epoch 7/10\n",
    "# 1563/1563 [==============================] - 15s 9ms/step - loss: 1.1055 - accuracy: 0.6125 - val_loss: 1.0945 - val_accuracy: 0.6088\n",
    "# Epoch 8/10\n",
    "# 1563/1563 [==============================] - 15s 10ms/step - loss: 1.0796 - accuracy: 0.6217 - val_loss: 1.0751 - val_accuracy: 0.6214\n",
    "# Epoch 9/10\n",
    "# 1563/1563 [==============================] - 15s 9ms/step - loss: 1.0579 - accuracy: 0.6293 - val_loss: 1.0559 - val_accuracy: 0.6259\n",
    "# Epoch 10/10\n",
    "# 1563/1563 [==============================] - 15s 10ms/step - loss: 1.0399 - accuracy: 0.6355 - val_loss: 1.0431 - val_accuracy: 0.6290\n",
    "\n",
    "# Train time on Apple M1 Pro: 150.183 seconds\n",
    "# Out[15]:\n",
    "# 150.18279237499996\n",
    "\n",
    "\n",
    "# ## Apple M1 Pro with Batch Size 128\n",
    "# Epoch 1/10\n",
    "# 2021-11-14 12:57:56.257185: I tensorflow/compiler/mlir/mlir_graph_optimization_pass.cc:185] None of the MLIR Optimization Passes are enabled (registered 2)\n",
    "# 2021-11-14 12:57:56.258498: W tensorflow/core/platform/profile_utils/cpu_utils.cc:128] Failed to get CPU frequency: 0 Hz\n",
    "# 2021-11-14 12:57:56.258581: I tensorflow/core/grappler/optimizers/custom_graph_optimizer_registry.cc:112] Plugin optimizer for device_type GPU is enabled.\n",
    "# 391/391 [==============================] - ETA: 0s - loss: 1.8037 - accuracy: 0.3384\n",
    "# 2021-11-14 12:58:03.646585: I tensorflow/core/grappler/optimizers/custom_graph_optimizer_registry.cc:112] Plugin optimizer for device_type GPU is enabled.\n",
    "# 391/391 [==============================] - 8s 13ms/step - loss: 1.8037 - accuracy: 0.3384 - val_loss: 1.6161 - val_accuracy: 0.4071\n",
    "# Epoch 2/10\n",
    "# 391/391 [==============================] - 5s 12ms/step - loss: 1.5390 - accuracy: 0.4430 - val_loss: 1.4903 - val_accuracy: 0.4605\n",
    "# Epoch 3/10\n",
    "# 391/391 [==============================] - 5s 13ms/step - loss: 1.4348 - accuracy: 0.4831 - val_loss: 1.4028 - val_accuracy: 0.4946\n",
    "# Epoch 4/10\n",
    "# 391/391 [==============================] - 5s 13ms/step - loss: 1.3703 - accuracy: 0.5094 - val_loss: 1.3467 - val_accuracy: 0.5136\n",
    "# Epoch 5/10\n",
    "# 391/391 [==============================] - 5s 12ms/step - loss: 1.3201 - accuracy: 0.5296 - val_loss: 1.3054 - val_accuracy: 0.5325\n",
    "# Epoch 6/10\n",
    "# 391/391 [==============================] - 5s 13ms/step - loss: 1.2810 - accuracy: 0.5452 - val_loss: 1.2768 - val_accuracy: 0.5464\n",
    "# Epoch 7/10\n",
    "# 391/391 [==============================] - 5s 13ms/step - loss: 1.2501 - accuracy: 0.5577 - val_loss: 1.2533 - val_accuracy: 0.5568\n",
    "# Epoch 8/10\n",
    "# 391/391 [==============================] - 5s 13ms/step - loss: 1.2249 - accuracy: 0.5671 - val_loss: 1.2309 - val_accuracy: 0.5653\n",
    "# Epoch 9/10\n",
    "# 391/391 [==============================] - 5s 13ms/step - loss: 1.2029 - accuracy: 0.5751 - val_loss: 1.2133 - val_accuracy: 0.5738\n",
    "# Epoch 10/10\n",
    "# 391/391 [==============================] - 5s 13ms/step - loss: 1.1826 - accuracy: 0.5825 - val_loss: 1.1930 - val_accuracy: 0.5789\n",
    "\n",
    "# Train time on Apple M1 Pro: 54.861 seconds\n",
    "# Out[13]:\n",
    "# 54.861148458\n",
    "\n",
    "\n",
    "# ## Apple M1 Max with Batch Size 128\n",
    "# Epoch 1/10\n",
    "#   1/391 [..............................] - ETA: 2:09 - loss: 2.3014 - accuracy: 0.1641\n",
    "# 2021-11-14 15:57:38.791170: I tensorflow/compiler/mlir/mlir_graph_optimization_pass.cc:185] None of the MLIR Optimization Passes are enabled (registered 2)\n",
    "# 2021-11-14 15:57:38.792192: W tensorflow/core/platform/profile_utils/cpu_utils.cc:128] Failed to get CPU frequency: 0 Hz\n",
    "# 2021-11-14 15:57:38.792253: I tensorflow/core/grappler/optimizers/custom_graph_optimizer_registry.cc:112] Plugin optimizer for device_type GPU is enabled.\n",
    "# 389/391 [============================>.] - ETA: 0s - loss: 1.8048 - accuracy: 0.3379\n",
    "# 2021-11-14 15:57:43.154718: I tensorflow/core/grappler/optimizers/custom_graph_optimizer_registry.cc:112] Plugin optimizer for device_type GPU is enabled.\n",
    "# 391/391 [==============================] - 5s 12ms/step - loss: 1.8037 - accuracy: 0.3384 - val_loss: 1.6161 - val_accuracy: 0.4071\n",
    "# Epoch 2/10\n",
    "# 391/391 [==============================] - 5s 12ms/step - loss: 1.5390 - accuracy: 0.4430 - val_loss: 1.4903 - val_accuracy: 0.4605\n",
    "# Epoch 3/10\n",
    "# 391/391 [==============================] - 5s 12ms/step - loss: 1.4348 - accuracy: 0.4831 - val_loss: 1.4028 - val_accuracy: 0.4946\n",
    "# Epoch 4/10\n",
    "# 391/391 [==============================] - 5s 12ms/step - loss: 1.3703 - accuracy: 0.5094 - val_loss: 1.3467 - val_accuracy: 0.5136\n",
    "# Epoch 5/10\n",
    "# 391/391 [==============================] - 5s 12ms/step - loss: 1.3201 - accuracy: 0.5296 - val_loss: 1.3054 - val_accuracy: 0.5325\n",
    "# Epoch 6/10\n",
    "# 391/391 [==============================] - 5s 12ms/step - loss: 1.2810 - accuracy: 0.5452 - val_loss: 1.2768 - val_accuracy: 0.5464\n",
    "# Epoch 7/10\n",
    "# 391/391 [==============================] - 5s 12ms/step - loss: 1.2501 - accuracy: 0.5577 - val_loss: 1.2533 - val_accuracy: 0.5568\n",
    "# Epoch 8/10\n",
    "# 391/391 [==============================] - 5s 12ms/step - loss: 1.2249 - accuracy: 0.5671 - val_loss: 1.2309 - val_accuracy: 0.5653\n",
    "# Epoch 9/10\n",
    "# 391/391 [==============================] - 5s 12ms/step - loss: 1.2029 - accuracy: 0.5751 - val_loss: 1.2133 - val_accuracy: 0.5738\n",
    "# Epoch 10/10\n",
    "# 391/391 [==============================] - 5s 12ms/step - loss: 1.1826 - accuracy: 0.5825 - val_loss: 1.1930 - val_accuracy: 0.5789\n",
    "\n",
    "# Train time on Apple M1 Max: 47.751 seconds\n",
    "# Out[10]:\n",
    "# 47.75110683300001"
   ]
  },
  {
   "cell_type": "code",
   "execution_count": null,
   "id": "5bc1ab22",
   "metadata": {},
   "outputs": [],
   "source": []
  }
 ],
 "metadata": {
  "accelerator": "GPU",
  "colab": {
   "collapsed_sections": [],
   "name": "apple_m1_benchmakring_gpu.ipynb",
   "provenance": []
  },
  "kernelspec": {
   "display_name": "Python 3 (ipykernel)",
   "language": "python",
   "name": "python3"
  },
  "language_info": {
   "codemirror_mode": {
    "name": "ipython",
    "version": 3
   },
   "file_extension": ".py",
   "mimetype": "text/x-python",
   "name": "python",
   "nbconvert_exporter": "python",
   "pygments_lexer": "ipython3",
   "version": "3.9.7"
  }
 },
 "nbformat": 4,
 "nbformat_minor": 5
}
